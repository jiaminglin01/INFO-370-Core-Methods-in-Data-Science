{
 "cells": [
  {
   "cell_type": "code",
   "execution_count": 1,
   "metadata": {},
   "outputs": [],
   "source": [
    "import pandas as pd\n",
    "import numpy as np\n",
    "import statsmodels.formula.api as smf\n",
    "import warnings\n",
    "warnings.filterwarnings('ignore')"
   ]
  },
  {
   "cell_type": "markdown",
   "metadata": {},
   "source": [
    "# Mutiple Regression and Categorical Variables"
   ]
  },
  {
   "cell_type": "markdown",
   "metadata": {},
   "source": [
    "## 1 NBA2K20 Data"
   ]
  },
  {
   "cell_type": "markdown",
   "metadata": {},
   "source": [
    "#### NBA 2K20 is a basketball simulation video game published by Visual Concepts and published by 2K Sports, based on the National Basketball Association (NBA). (from wikipedia)"
   ]
  },
  {
   "cell_type": "markdown",
   "metadata": {},
   "source": [
    "#### (1) Load the data \"nba2k20-full.csv\", how many observations you find? and make some sanity checks. missing value in team means that the player is currently a free agent and missing value in college means that the player did not attend college before."
   ]
  },
  {
   "cell_type": "markdown",
   "metadata": {},
   "source": [
    "nba2k20 dataset contains following variables:\n",
    "\n",
    "full_name: players' full name\n",
    "\n",
    "rating: the overall ability of a player in the game\n",
    "\n",
    "jersey: the number on players' jersey\n",
    "\n",
    "position: players' position on the court\n",
    "\n",
    "b_day: players' birthday\n",
    "\n",
    "height: players' height\n",
    "\n",
    "weight: players' weight\n",
    "\n",
    "salary: players' salary\n",
    "\n",
    "country: players' nationality\n",
    "\n",
    "draft_year: the year which players attend NBA draft\n",
    "\n",
    "draft_around: the round that players be chosen\n",
    "\n",
    "draft_peak: the number of pick that players be chosen\n",
    "\n",
    "college: players' college"
   ]
  },
  {
   "cell_type": "code",
   "execution_count": 2,
   "metadata": {},
   "outputs": [
    {
     "name": "stdout",
     "output_type": "stream",
     "text": [
      "(429, 14)\n",
      "full_name       0\n",
      "rating          0\n",
      "jersey          0\n",
      "team           23\n",
      "position        0\n",
      "b_day           0\n",
      "height          0\n",
      "weight          0\n",
      "salary          0\n",
      "country         0\n",
      "draft_year      0\n",
      "draft_round     0\n",
      "draft_peak      0\n",
      "college        66\n",
      "dtype: int64\n"
     ]
    },
    {
     "data": {
      "text/html": [
       "<div>\n",
       "<style scoped>\n",
       "    .dataframe tbody tr th:only-of-type {\n",
       "        vertical-align: middle;\n",
       "    }\n",
       "\n",
       "    .dataframe tbody tr th {\n",
       "        vertical-align: top;\n",
       "    }\n",
       "\n",
       "    .dataframe thead th {\n",
       "        text-align: right;\n",
       "    }\n",
       "</style>\n",
       "<table border=\"1\" class=\"dataframe\">\n",
       "  <thead>\n",
       "    <tr style=\"text-align: right;\">\n",
       "      <th></th>\n",
       "      <th>full_name</th>\n",
       "      <th>rating</th>\n",
       "      <th>jersey</th>\n",
       "      <th>team</th>\n",
       "      <th>position</th>\n",
       "      <th>b_day</th>\n",
       "      <th>height</th>\n",
       "      <th>weight</th>\n",
       "      <th>salary</th>\n",
       "      <th>country</th>\n",
       "      <th>draft_year</th>\n",
       "      <th>draft_round</th>\n",
       "      <th>draft_peak</th>\n",
       "      <th>college</th>\n",
       "    </tr>\n",
       "  </thead>\n",
       "  <tbody>\n",
       "    <tr>\n",
       "      <th>0</th>\n",
       "      <td>LeBron James</td>\n",
       "      <td>97</td>\n",
       "      <td>#23</td>\n",
       "      <td>Los Angeles Lakers</td>\n",
       "      <td>F</td>\n",
       "      <td>12/30/84</td>\n",
       "      <td>6-9 / 2.06</td>\n",
       "      <td>250 lbs. / 113.4 kg.</td>\n",
       "      <td>$37436858</td>\n",
       "      <td>USA</td>\n",
       "      <td>2003</td>\n",
       "      <td>1</td>\n",
       "      <td>1</td>\n",
       "      <td>NaN</td>\n",
       "    </tr>\n",
       "    <tr>\n",
       "      <th>1</th>\n",
       "      <td>Kawhi Leonard</td>\n",
       "      <td>97</td>\n",
       "      <td>#2</td>\n",
       "      <td>Los Angeles Clippers</td>\n",
       "      <td>F</td>\n",
       "      <td>06/29/91</td>\n",
       "      <td>6-7 / 2.01</td>\n",
       "      <td>225 lbs. / 102.1 kg.</td>\n",
       "      <td>$32742000</td>\n",
       "      <td>USA</td>\n",
       "      <td>2011</td>\n",
       "      <td>1</td>\n",
       "      <td>15</td>\n",
       "      <td>San Diego State</td>\n",
       "    </tr>\n",
       "    <tr>\n",
       "      <th>2</th>\n",
       "      <td>Giannis Antetokounmpo</td>\n",
       "      <td>96</td>\n",
       "      <td>#34</td>\n",
       "      <td>Milwaukee Bucks</td>\n",
       "      <td>F-G</td>\n",
       "      <td>12/06/94</td>\n",
       "      <td>6-11 / 2.11</td>\n",
       "      <td>242 lbs. / 109.8 kg.</td>\n",
       "      <td>$25842697</td>\n",
       "      <td>Greece</td>\n",
       "      <td>2013</td>\n",
       "      <td>1</td>\n",
       "      <td>15</td>\n",
       "      <td>NaN</td>\n",
       "    </tr>\n",
       "    <tr>\n",
       "      <th>3</th>\n",
       "      <td>Kevin Durant</td>\n",
       "      <td>96</td>\n",
       "      <td>#7</td>\n",
       "      <td>Brooklyn Nets</td>\n",
       "      <td>F</td>\n",
       "      <td>09/29/88</td>\n",
       "      <td>6-10 / 2.08</td>\n",
       "      <td>230 lbs. / 104.3 kg.</td>\n",
       "      <td>$37199000</td>\n",
       "      <td>USA</td>\n",
       "      <td>2007</td>\n",
       "      <td>1</td>\n",
       "      <td>2</td>\n",
       "      <td>Texas</td>\n",
       "    </tr>\n",
       "    <tr>\n",
       "      <th>4</th>\n",
       "      <td>James Harden</td>\n",
       "      <td>96</td>\n",
       "      <td>#13</td>\n",
       "      <td>Houston Rockets</td>\n",
       "      <td>G</td>\n",
       "      <td>08/26/89</td>\n",
       "      <td>6-5 / 1.96</td>\n",
       "      <td>220 lbs. / 99.8 kg.</td>\n",
       "      <td>$38199000</td>\n",
       "      <td>USA</td>\n",
       "      <td>2009</td>\n",
       "      <td>1</td>\n",
       "      <td>3</td>\n",
       "      <td>Arizona State</td>\n",
       "    </tr>\n",
       "  </tbody>\n",
       "</table>\n",
       "</div>"
      ],
      "text/plain": [
       "               full_name  rating jersey                  team position  \\\n",
       "0           LeBron James      97    #23    Los Angeles Lakers        F   \n",
       "1          Kawhi Leonard      97     #2  Los Angeles Clippers        F   \n",
       "2  Giannis Antetokounmpo      96    #34       Milwaukee Bucks      F-G   \n",
       "3           Kevin Durant      96     #7         Brooklyn Nets        F   \n",
       "4           James Harden      96    #13       Houston Rockets        G   \n",
       "\n",
       "      b_day       height                weight     salary country  draft_year  \\\n",
       "0  12/30/84   6-9 / 2.06  250 lbs. / 113.4 kg.  $37436858     USA        2003   \n",
       "1  06/29/91   6-7 / 2.01  225 lbs. / 102.1 kg.  $32742000     USA        2011   \n",
       "2  12/06/94  6-11 / 2.11  242 lbs. / 109.8 kg.  $25842697  Greece        2013   \n",
       "3  09/29/88  6-10 / 2.08  230 lbs. / 104.3 kg.  $37199000     USA        2007   \n",
       "4  08/26/89   6-5 / 1.96   220 lbs. / 99.8 kg.  $38199000     USA        2009   \n",
       "\n",
       "  draft_round draft_peak          college  \n",
       "0           1          1              NaN  \n",
       "1           1         15  San Diego State  \n",
       "2           1         15              NaN  \n",
       "3           1          2            Texas  \n",
       "4           1          3    Arizona State  "
      ]
     },
     "execution_count": 2,
     "metadata": {},
     "output_type": "execute_result"
    }
   ],
   "source": [
    "nba = pd.read_csv(\"nba2k20-full.csv\",sep=\",\")\n",
    "print(nba.shape)\n",
    "print(nba.isnull().sum())\n",
    "nba.head(5)"
   ]
  },
  {
   "cell_type": "markdown",
   "metadata": {},
   "source": [
    "## 2 Mutiple Regression"
   ]
  },
  {
   "cell_type": "markdown",
   "metadata": {},
   "source": [
    "First, let's find out the relationship between players' salaries and their abilities(rating) in the game and their draft pick."
   ]
  },
  {
   "cell_type": "markdown",
   "metadata": {},
   "source": [
    "(1) First, you need to convert salary column from string to int and make salary into million dollars(divide by 1_000_000)."
   ]
  },
  {
   "cell_type": "code",
   "execution_count": 3,
   "metadata": {},
   "outputs": [],
   "source": [
    "for i in range(len(nba[\"salary\"])):\n",
    "    nba[\"salary\"].iloc[i] = nba[\"salary\"].iloc[i][1:]\n",
    "\n",
    "nba[\"salary\"] = nba[\"salary\"].astype(int)\n",
    "nba[\"salary\"] = nba[\"salary\"]/1_000_000"
   ]
  },
  {
   "cell_type": "markdown",
   "metadata": {},
   "source": [
    "(2) Some players are not come to NBA league by draft, so in this case, we want to drop undrated player.\n",
    "\n",
    "Hint(check values in draft_round)"
   ]
  },
  {
   "cell_type": "code",
   "execution_count": 4,
   "metadata": {},
   "outputs": [
    {
     "data": {
      "text/plain": [
       "1            257\n",
       "2            105\n",
       "Undrafted     67\n",
       "Name: draft_round, dtype: int64"
      ]
     },
     "execution_count": 4,
     "metadata": {},
     "output_type": "execute_result"
    }
   ],
   "source": [
    "nba.draft_round.value_counts()"
   ]
  },
  {
   "cell_type": "code",
   "execution_count": 5,
   "metadata": {},
   "outputs": [],
   "source": [
    "nba_draft = nba[nba[\"draft_round\"] != \"Undrafted\"] "
   ]
  },
  {
   "cell_type": "markdown",
   "metadata": {},
   "source": [
    "(3) now we want to convert the draft_peak from string to integer"
   ]
  },
  {
   "cell_type": "code",
   "execution_count": 6,
   "metadata": {},
   "outputs": [],
   "source": [
    "nba_draft[\"draft_peak\"] = nba_draft[\"draft_peak\"].astype(int)"
   ]
  },
  {
   "cell_type": "markdown",
   "metadata": {},
   "source": [
    "(4) run the linear regression in the form \n",
    "\n",
    "   salary = β0 + β1 * rating + β2 * draft_peak + ϵ\n",
    "          \n",
    "   and show the regression output.\n",
    "   \n",
    "   What is β0, β1 and β2 ? Interpret what they means? Are they statistically significant?"
   ]
  },
  {
   "cell_type": "code",
   "execution_count": 7,
   "metadata": {},
   "outputs": [
    {
     "data": {
      "text/html": [
       "<table class=\"simpletable\">\n",
       "<caption>OLS Regression Results</caption>\n",
       "<tr>\n",
       "  <th>Dep. Variable:</th>         <td>salary</td>      <th>  R-squared:         </th> <td>   0.592</td>\n",
       "</tr>\n",
       "<tr>\n",
       "  <th>Model:</th>                   <td>OLS</td>       <th>  Adj. R-squared:    </th> <td>   0.590</td>\n",
       "</tr>\n",
       "<tr>\n",
       "  <th>Method:</th>             <td>Least Squares</td>  <th>  F-statistic:       </th> <td>   260.4</td>\n",
       "</tr>\n",
       "<tr>\n",
       "  <th>Date:</th>             <td>Fri, 13 Nov 2020</td> <th>  Prob (F-statistic):</th> <td>1.32e-70</td>\n",
       "</tr>\n",
       "<tr>\n",
       "  <th>Time:</th>                 <td>17:49:02</td>     <th>  Log-Likelihood:    </th> <td> -1171.2</td>\n",
       "</tr>\n",
       "<tr>\n",
       "  <th>No. Observations:</th>      <td>   362</td>      <th>  AIC:               </th> <td>   2348.</td>\n",
       "</tr>\n",
       "<tr>\n",
       "  <th>Df Residuals:</th>          <td>   359</td>      <th>  BIC:               </th> <td>   2360.</td>\n",
       "</tr>\n",
       "<tr>\n",
       "  <th>Df Model:</th>              <td>     2</td>      <th>                     </th>     <td> </td>   \n",
       "</tr>\n",
       "<tr>\n",
       "  <th>Covariance Type:</th>      <td>nonrobust</td>    <th>                     </th>     <td> </td>   \n",
       "</tr>\n",
       "</table>\n",
       "<table class=\"simpletable\">\n",
       "<tr>\n",
       "       <td></td>         <th>coef</th>     <th>std err</th>      <th>t</th>      <th>P>|t|</th>  <th>[0.025</th>    <th>0.975]</th>  \n",
       "</tr>\n",
       "<tr>\n",
       "  <th>Intercept</th>  <td>  -89.6891</td> <td>    5.095</td> <td>  -17.603</td> <td> 0.000</td> <td>  -99.709</td> <td>  -79.669</td>\n",
       "</tr>\n",
       "<tr>\n",
       "  <th>rating</th>     <td>    1.2845</td> <td>    0.063</td> <td>   20.482</td> <td> 0.000</td> <td>    1.161</td> <td>    1.408</td>\n",
       "</tr>\n",
       "<tr>\n",
       "  <th>draft_peak</th> <td>    0.0052</td> <td>    0.024</td> <td>    0.219</td> <td> 0.827</td> <td>   -0.042</td> <td>    0.052</td>\n",
       "</tr>\n",
       "</table>\n",
       "<table class=\"simpletable\">\n",
       "<tr>\n",
       "  <th>Omnibus:</th>       <td>15.279</td> <th>  Durbin-Watson:     </th> <td>   1.901</td>\n",
       "</tr>\n",
       "<tr>\n",
       "  <th>Prob(Omnibus):</th> <td> 0.000</td> <th>  Jarque-Bera (JB):  </th> <td>  27.532</td>\n",
       "</tr>\n",
       "<tr>\n",
       "  <th>Skew:</th>          <td> 0.240</td> <th>  Prob(JB):          </th> <td>1.05e-06</td>\n",
       "</tr>\n",
       "<tr>\n",
       "  <th>Kurtosis:</th>      <td> 4.263</td> <th>  Cond. No.          </th> <td>1.26e+03</td>\n",
       "</tr>\n",
       "</table><br/><br/>Warnings:<br/>[1] Standard Errors assume that the covariance matrix of the errors is correctly specified.<br/>[2] The condition number is large, 1.26e+03. This might indicate that there are<br/>strong multicollinearity or other numerical problems."
      ],
      "text/plain": [
       "<class 'statsmodels.iolib.summary.Summary'>\n",
       "\"\"\"\n",
       "                            OLS Regression Results                            \n",
       "==============================================================================\n",
       "Dep. Variable:                 salary   R-squared:                       0.592\n",
       "Model:                            OLS   Adj. R-squared:                  0.590\n",
       "Method:                 Least Squares   F-statistic:                     260.4\n",
       "Date:                Fri, 13 Nov 2020   Prob (F-statistic):           1.32e-70\n",
       "Time:                        17:49:02   Log-Likelihood:                -1171.2\n",
       "No. Observations:                 362   AIC:                             2348.\n",
       "Df Residuals:                     359   BIC:                             2360.\n",
       "Df Model:                           2                                         \n",
       "Covariance Type:            nonrobust                                         \n",
       "==============================================================================\n",
       "                 coef    std err          t      P>|t|      [0.025      0.975]\n",
       "------------------------------------------------------------------------------\n",
       "Intercept    -89.6891      5.095    -17.603      0.000     -99.709     -79.669\n",
       "rating         1.2845      0.063     20.482      0.000       1.161       1.408\n",
       "draft_peak     0.0052      0.024      0.219      0.827      -0.042       0.052\n",
       "==============================================================================\n",
       "Omnibus:                       15.279   Durbin-Watson:                   1.901\n",
       "Prob(Omnibus):                  0.000   Jarque-Bera (JB):               27.532\n",
       "Skew:                           0.240   Prob(JB):                     1.05e-06\n",
       "Kurtosis:                       4.263   Cond. No.                     1.26e+03\n",
       "==============================================================================\n",
       "\n",
       "Warnings:\n",
       "[1] Standard Errors assume that the covariance matrix of the errors is correctly specified.\n",
       "[2] The condition number is large, 1.26e+03. This might indicate that there are\n",
       "strong multicollinearity or other numerical problems.\n",
       "\"\"\""
      ]
     },
     "execution_count": 7,
     "metadata": {},
     "output_type": "execute_result"
    }
   ],
   "source": [
    "m = smf.ols(\"salary ~ rating + draft_peak\", \n",
    "            data = nba_draft).fit()\n",
    "\n",
    "b0 = -89.6891\n",
    "b1 = 1.2845\n",
    "b2 = 0.0052\n",
    "\n",
    "m.summary()\n",
    "\n",
    "# b0 is -89.69, b1 is 1.28 and b2 is 0.0052. b0 means that if a player's rating and draft peak is 0, and then his salary is -89.69 \n",
    "# million dollars, b1 means that for 1 increase in a player's rating, his salary will increase by 1.28 million dollars. b2 means that\n",
    "# for 1 increase in a player's draft pick, his salary will increase by 0.0052 million dollars. b0 and b1 are statistically significant\n",
    "# as their P values are pretty small. b2 is not statistically significant as t value is pretty samll and P is very large, which means \n",
    "# it is very likely that players' draft pick has no relationship with their salary."
   ]
  },
  {
   "cell_type": "markdown",
   "metadata": {},
   "source": [
    "## 3 Categorical Variables"
   ]
  },
  {
   "cell_type": "markdown",
   "metadata": {},
   "source": [
    "Beside Money, now we want to see if there is a relationship between players' postitions and their height."
   ]
  },
  {
   "cell_type": "markdown",
   "metadata": {},
   "source": [
    "(1) First, let's get players' height(centimeters) by grabing last four indexes of values in column height and convert those values to numbers."
   ]
  },
  {
   "cell_type": "code",
   "execution_count": 8,
   "metadata": {},
   "outputs": [],
   "source": [
    "for i in range(len(nba[\"height\"])):\n",
    "    nba[\"height\"].iloc[i] = nba[\"height\"].iloc[i][-4:]\n",
    "\n",
    "nba[\"height\"] = nba[\"height\"].astype(float)\n",
    "nba[\"height\"] = nba[\"height\"]*100"
   ]
  },
  {
   "cell_type": "markdown",
   "metadata": {},
   "source": [
    "(2) Second, to make it simpler, we just need players' main position. Thus, if a player's position is \"F-C\", we take F as their positions"
   ]
  },
  {
   "cell_type": "code",
   "execution_count": 9,
   "metadata": {},
   "outputs": [],
   "source": [
    "for i in range(len(nba[\"position\"])):\n",
    "    nba[\"position\"].iloc[i] = nba[\"position\"].iloc[i][0]"
   ]
  },
  {
   "cell_type": "markdown",
   "metadata": {},
   "source": [
    "(3) Now you get the data and let's find relationship between heights and positions. G means guard, F means forward, and C means center.\n",
    "\n",
    "Use the formula: height = β0 + β1 * ForwardYes + β2 * GuardYes + ϵ\n",
    "\n",
    "What is your β0, β1, and β2? how do you intepret those values? Are they statistically significant? What do they tell you in reality?"
   ]
  },
  {
   "cell_type": "code",
   "execution_count": 10,
   "metadata": {},
   "outputs": [
    {
     "data": {
      "text/html": [
       "<table class=\"simpletable\">\n",
       "<caption>OLS Regression Results</caption>\n",
       "<tr>\n",
       "  <th>Dep. Variable:</th>         <td>height</td>      <th>  R-squared:         </th> <td>   0.655</td>\n",
       "</tr>\n",
       "<tr>\n",
       "  <th>Model:</th>                   <td>OLS</td>       <th>  Adj. R-squared:    </th> <td>   0.653</td>\n",
       "</tr>\n",
       "<tr>\n",
       "  <th>Method:</th>             <td>Least Squares</td>  <th>  F-statistic:       </th> <td>   404.5</td>\n",
       "</tr>\n",
       "<tr>\n",
       "  <th>Date:</th>             <td>Fri, 13 Nov 2020</td> <th>  Prob (F-statistic):</th> <td>3.43e-99</td>\n",
       "</tr>\n",
       "<tr>\n",
       "  <th>Time:</th>                 <td>17:49:02</td>     <th>  Log-Likelihood:    </th> <td> -1290.4</td>\n",
       "</tr>\n",
       "<tr>\n",
       "  <th>No. Observations:</th>      <td>   429</td>      <th>  AIC:               </th> <td>   2587.</td>\n",
       "</tr>\n",
       "<tr>\n",
       "  <th>Df Residuals:</th>          <td>   426</td>      <th>  BIC:               </th> <td>   2599.</td>\n",
       "</tr>\n",
       "<tr>\n",
       "  <th>Df Model:</th>              <td>     2</td>      <th>                     </th>     <td> </td>   \n",
       "</tr>\n",
       "<tr>\n",
       "  <th>Covariance Type:</th>      <td>nonrobust</td>    <th>                     </th>     <td> </td>   \n",
       "</tr>\n",
       "</table>\n",
       "<table class=\"simpletable\">\n",
       "<tr>\n",
       "        <td></td>           <th>coef</th>     <th>std err</th>      <th>t</th>      <th>P>|t|</th>  <th>[0.025</th>    <th>0.975]</th>  \n",
       "</tr>\n",
       "<tr>\n",
       "  <th>Intercept</th>     <td>  210.7407</td> <td>    0.669</td> <td>  314.996</td> <td> 0.000</td> <td>  209.426</td> <td>  212.056</td>\n",
       "</tr>\n",
       "<tr>\n",
       "  <th>position[T.F]</th> <td>   -7.1525</td> <td>    0.760</td> <td>   -9.417</td> <td> 0.000</td> <td>   -8.645</td> <td>   -5.660</td>\n",
       "</tr>\n",
       "<tr>\n",
       "  <th>position[T.G]</th> <td>  -18.3897</td> <td>    0.759</td> <td>  -24.227</td> <td> 0.000</td> <td>  -19.882</td> <td>  -16.898</td>\n",
       "</tr>\n",
       "</table>\n",
       "<table class=\"simpletable\">\n",
       "<tr>\n",
       "  <th>Omnibus:</th>       <td> 3.852</td> <th>  Durbin-Watson:     </th> <td>   1.861</td>\n",
       "</tr>\n",
       "<tr>\n",
       "  <th>Prob(Omnibus):</th> <td> 0.146</td> <th>  Jarque-Bera (JB):  </th> <td>   3.653</td>\n",
       "</tr>\n",
       "<tr>\n",
       "  <th>Skew:</th>          <td>-0.182</td> <th>  Prob(JB):          </th> <td>   0.161</td>\n",
       "</tr>\n",
       "<tr>\n",
       "  <th>Kurtosis:</th>      <td> 3.269</td> <th>  Cond. No.          </th> <td>    5.96</td>\n",
       "</tr>\n",
       "</table><br/><br/>Warnings:<br/>[1] Standard Errors assume that the covariance matrix of the errors is correctly specified."
      ],
      "text/plain": [
       "<class 'statsmodels.iolib.summary.Summary'>\n",
       "\"\"\"\n",
       "                            OLS Regression Results                            \n",
       "==============================================================================\n",
       "Dep. Variable:                 height   R-squared:                       0.655\n",
       "Model:                            OLS   Adj. R-squared:                  0.653\n",
       "Method:                 Least Squares   F-statistic:                     404.5\n",
       "Date:                Fri, 13 Nov 2020   Prob (F-statistic):           3.43e-99\n",
       "Time:                        17:49:02   Log-Likelihood:                -1290.4\n",
       "No. Observations:                 429   AIC:                             2587.\n",
       "Df Residuals:                     426   BIC:                             2599.\n",
       "Df Model:                           2                                         \n",
       "Covariance Type:            nonrobust                                         \n",
       "=================================================================================\n",
       "                    coef    std err          t      P>|t|      [0.025      0.975]\n",
       "---------------------------------------------------------------------------------\n",
       "Intercept       210.7407      0.669    314.996      0.000     209.426     212.056\n",
       "position[T.F]    -7.1525      0.760     -9.417      0.000      -8.645      -5.660\n",
       "position[T.G]   -18.3897      0.759    -24.227      0.000     -19.882     -16.898\n",
       "==============================================================================\n",
       "Omnibus:                        3.852   Durbin-Watson:                   1.861\n",
       "Prob(Omnibus):                  0.146   Jarque-Bera (JB):                3.653\n",
       "Skew:                          -0.182   Prob(JB):                        0.161\n",
       "Kurtosis:                       3.269   Cond. No.                         5.96\n",
       "==============================================================================\n",
       "\n",
       "Warnings:\n",
       "[1] Standard Errors assume that the covariance matrix of the errors is correctly specified.\n",
       "\"\"\""
      ]
     },
     "execution_count": 10,
     "metadata": {},
     "output_type": "execute_result"
    }
   ],
   "source": [
    "m = smf.ols(\"height ~ position\", data=nba).fit()\n",
    "\n",
    "b0 = 210.74\n",
    "b1 = -7.15\n",
    "b2 = -18.39\n",
    "\n",
    "m.summary()\n",
    "\n",
    "# b0 is 210.74, and it means that players whose position is center have a height of 210.74cm\n",
    "# b1 is -7.15, and it means that players whose position is foward have height less than center players by 7.15cm\n",
    "# b2 is -18.39, and it means that players whose position is guard have height less than center players by 18.39cm\n",
    "# All these values are statistically significant as P values are pretty small.\n",
    "# It tells me that usually Center has higher height than forward and guard."
   ]
  },
  {
   "cell_type": "markdown",
   "metadata": {},
   "source": [
    "(4) What is your R^2, and what does it means?"
   ]
  },
  {
   "cell_type": "code",
   "execution_count": 11,
   "metadata": {},
   "outputs": [],
   "source": [
    "# R^2 is 0.655, which means 65.5% of variantions in players' height can be explained by positions."
   ]
  }
 ],
 "metadata": {
  "kernelspec": {
   "display_name": "Python 3",
   "language": "python",
   "name": "python3"
  },
  "language_info": {
   "codemirror_mode": {
    "name": "ipython",
    "version": 3
   },
   "file_extension": ".py",
   "mimetype": "text/x-python",
   "name": "python",
   "nbconvert_exporter": "python",
   "pygments_lexer": "ipython3",
   "version": "3.8.3"
  }
 },
 "nbformat": 4,
 "nbformat_minor": 4
}
