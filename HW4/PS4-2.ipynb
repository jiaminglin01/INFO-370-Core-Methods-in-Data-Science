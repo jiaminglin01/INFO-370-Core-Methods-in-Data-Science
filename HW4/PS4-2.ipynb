{
 "cells": [
  {
   "cell_type": "markdown",
   "metadata": {},
   "source": [
    "# Jiaming Lin PS4"
   ]
  },
  {
   "cell_type": "code",
   "execution_count": 1,
   "metadata": {},
   "outputs": [],
   "source": [
    "import pandas as pd\n",
    "import numpy as np\n",
    "import matplotlib.pyplot as plt"
   ]
  },
  {
   "cell_type": "markdown",
   "metadata": {},
   "source": [
    "## 1.  Are sons taller than fathers? Monte-Carlo approach"
   ]
  },
  {
   "cell_type": "markdown",
   "metadata": {},
   "source": [
    "1. (3pt) load the fatherson.csv data. Perform basic description of it: what\n",
    "is the number of observations? Are there any missings or otherwise\n",
    "invalid entries?\n"
   ]
  },
  {
   "cell_type": "code",
   "execution_count": 2,
   "metadata": {},
   "outputs": [
    {
     "name": "stdout",
     "output_type": "stream",
     "text": [
      "(1078, 2)\n",
      "   fheight  sheight\n",
      "0    165.2    151.8\n",
      "1    160.7    160.6\n",
      "2    165.0    160.9\n",
      "3    167.0    159.5\n",
      "4    155.3    163.3\n",
      "fheight    0\n",
      "sheight    0\n",
      "dtype: int64\n"
     ]
    }
   ],
   "source": [
    "fs = pd.read_csv(\"fatherson.csv.bz2\", sep=\"\\t\")\n",
    "print(fs.shape)\n",
    "print(fs.head())\n",
    "print(fs.isnull().sum())\n",
    "# There are 1078 observations without missing values."
   ]
  },
  {
   "cell_type": "markdown",
   "metadata": {},
   "source": [
    "2. (3pt) Describe fathers and sons: compute the mean, median, standard\n",
    "deviation, and range of their heights. According to these \u001c",
    "gures, who\n",
    "are taller: fathers or sons? Compute the mean di\u001berence between\n",
    "fathers and sons. (The answer is 2.53cm.)"
   ]
  },
  {
   "cell_type": "code",
   "execution_count": 3,
   "metadata": {},
   "outputs": [
    {
     "name": "stdout",
     "output_type": "stream",
     "text": [
      "        mean                  median   standard deviation   variance              range\n",
      "father: 171.92523191094622    172.1    6.972345805242013    48.613606027875896    (149.9, 191.6)\n",
      "son   : 174.45723562152145    174.3    7.150713294127493    51.13270061481166     (148.6, 199.0)\n",
      "-2.532003710575225\n"
     ]
    }
   ],
   "source": [
    "f_mean = fs.fheight.mean()\n",
    "f_median = fs.fheight.median()\n",
    "f_std = fs.fheight.std()\n",
    "f_var = fs.fheight.var()\n",
    "f_range = (fs.fheight.min(), fs.fheight.max())\n",
    "s_mean = fs.sheight.mean()\n",
    "s_median = fs.sheight.median()\n",
    "s_std = fs.sheight.std()\n",
    "s_var = fs.sheight.var()\n",
    "s_range = (fs.sheight.min(), fs.sheight.max())\n",
    "\n",
    "print(\"        mean                  median   standard deviation   variance              range\")\n",
    "print(\"father:\",f_mean,\"  \",f_median, \"  \",f_std, \"  \",f_var,\"  \", f_range)\n",
    "print(\"son   :\",s_mean,\"  \",s_median, \"  \",s_std, \"  \",s_var,\"   \", s_range)\n",
    "print(f_mean - s_mean)\n",
    "\n",
    "# The mean difference between fathers and sons' height is 2.53cm and sons are taller."
   ]
  },
  {
   "cell_type": "markdown",
   "metadata": {},
   "source": [
    "3. (6pt) Lets add a graphical comparison. Plot histograms of both fathers'\n",
    "and sons' heights. Comment the histograms/density plots. Which\n",
    "distribution do they resemble?"
   ]
  },
  {
   "cell_type": "code",
   "execution_count": 4,
   "metadata": {},
   "outputs": [
    {
     "data": {
      "image/png": "[encoded data removed]",
      "text/plain": [
       "<Figure size 432x288 with 2 Axes>"
      ]
     },
     "metadata": {
      "needs_background": "light"
     },
     "output_type": "display_data"
    }
   ],
   "source": [
    "fig, ax = plt.subplots(2)\n",
    "_ = ax[0].hist(fs.fheight, bins = 30, edgecolor = \"white\")\n",
    "_ = ax[1].hist(fs.sheight, bins = 30, edgecolor = \"white\")\n",
    "\n",
    "# The shape of both distributions seem normal"
   ]
  },
  {
   "cell_type": "markdown",
   "metadata": {},
   "source": [
    "4. (6pt) Let's state our H0: fathers and sons are of similar height (in\n",
    "average). Hence we have to create fake fathers and fake sons from a\n",
    "similar distribution. An obvious choice for this is the distribution of\n",
    "combined fathers' and sons' height.\n",
    "Compute the overall mean µ and standard deviation σ of combined\n",
    "fathers' and sons' heights.\n",
    "Hint: you can use pd.concat to combine two series together into a\n",
    "longer series.\n"
   ]
  },
  {
   "cell_type": "code",
   "execution_count": 5,
   "metadata": {},
   "outputs": [
    {
     "name": "stdout",
     "output_type": "stream",
     "text": [
      "173.19123376623375\n",
      "7.173110536219114\n"
     ]
    }
   ],
   "source": [
    "combine = pd.concat([fs.fheight, fs.sheight])\n",
    "print(combine.mean())\n",
    "print(combine.std())\n",
    "\n",
    "# The combined mean is 173.19 and combined standard deviation is 7.17"
   ]
  },
  {
   "cell_type": "markdown",
   "metadata": {},
   "source": [
    "5. (6pt) Now create two sets of random normals, \u0010fake fathers\u0011 and \u0010fake\n",
    "sons\u0011, both with the same overall mean and overall standard deviation\n",
    "that you just computed above.\n",
    "What is the average fathers' and sons' di\u001berence? Compare the result\n",
    "with that you found in the previous problem."
   ]
  },
  {
   "cell_type": "code",
   "execution_count": 6,
   "metadata": {},
   "outputs": [
    {
     "name": "stdout",
     "output_type": "stream",
     "text": [
      "-0.34093468696872264\n"
     ]
    }
   ],
   "source": [
    "np.random.seed(0)\n",
    "f_father = np.random.normal(combine.mean(), combine.std(), 1078)\n",
    "f_son = np.random.normal(combine.mean(), combine.std(), 1078)\n",
    "\n",
    "print(f_father.mean() - f_son.mean())\n",
    "# Average fathers' and sons' difference is 0.34cm, which is pretty smaller than 2.53cm in previous problem."
   ]
  },
  {
   "cell_type": "markdown",
   "metadata": {},
   "source": [
    "6. (6pt) Now repeat the previous question a large number R (1000 or\n",
    "more) times. Each time store the mean di\u001berence for fake fathers and\n",
    "fake sons, so you end up with R di\u001berent values for the mean di\u001berence."
   ]
  },
  {
   "cell_type": "code",
   "execution_count": 7,
   "metadata": {},
   "outputs": [],
   "source": [
    "np.random.seed(0)\n",
    "means = np.array([])\n",
    "\n",
    "for i in range(1000):\n",
    "    f_father = np.random.normal(combine.mean(), combine.std(), 1078)\n",
    "    f_son = np.random.normal(combine.mean(), combine.std(), 1078)\n",
    "    mean = f_father.mean() - f_son.mean()\n",
    "    means = np.append(means, mean)"
   ]
  },
  {
   "cell_type": "markdown",
   "metadata": {},
   "source": [
    "7. (6pt) What is the mean of the mean di\u001berences? If you did your\n",
    "simulations correctly, it should be close to 0. Explain why do you get\n",
    "this result."
   ]
  },
  {
   "cell_type": "code",
   "execution_count": 8,
   "metadata": {},
   "outputs": [
    {
     "data": {
      "text/plain": [
       "-0.008907190806883989"
      ]
     },
     "execution_count": 8,
     "metadata": {},
     "output_type": "execute_result"
    }
   ],
   "source": [
    "means.mean()\n",
    "# The mean of mean difference is -0.008907190806883989\n",
    "# This is because of central limit theorem. When we have sample means based on enough size of individuals , those means will form a \n",
    "# approximately normal distribution around mean close to the original mean which should be 0."
   ]
  },
  {
   "cell_type": "markdown",
   "metadata": {},
   "source": [
    "8. (9pt) What is the largest mean di\u001berence (in absolute value) in your\n",
    "sample?\n",
    "Hint: np.abs computes absolute value."
   ]
  },
  {
   "cell_type": "code",
   "execution_count": 9,
   "metadata": {},
   "outputs": [
    {
     "data": {
      "text/plain": [
       "1.2019711280406113"
      ]
     },
     "execution_count": 9,
     "metadata": {},
     "output_type": "execute_result"
    }
   ],
   "source": [
    "np.max(np.abs(means))\n",
    "# the largest mean difference in my sample is 1.2019711280406113"
   ]
  },
  {
   "cell_type": "markdown",
   "metadata": {},
   "source": [
    "9. (9pt) \u001c",
    "nd 95% con\u001c",
    "dence interval (CI) of your sample of mean di\u001berences. Does the di\u001berence in actual data, 2.53cm in favor of sons, fall\n",
    "into the CI?\n",
    "Hint: use np.percentile(2.5) and a similar expression for the 97.5th\n",
    "percentile.\n"
   ]
  },
  {
   "cell_type": "code",
   "execution_count": 10,
   "metadata": {},
   "outputs": [
    {
     "data": {
      "text/plain": [
       "(-0.6212990943697718, 0.5460319310092201)"
      ]
     },
     "execution_count": 10,
     "metadata": {},
     "output_type": "execute_result"
    }
   ],
   "source": [
    "np.percentile(means ,2.5), np.percentile(means ,97.5)\n",
    "# The 95% confidence interval of my sample of mean differences is (-0.6212990943697718, 0.5460319310092201) and it does not include 2.53"
   ]
  },
  {
   "cell_type": "markdown",
   "metadata": {},
   "source": [
    "10. (6pt) Finally, based on the simulations, what is your conclusion: is the\n",
    "observed di\u001berence 2.53 just a random \u001d",
    "uke, or are sons really taller\n",
    "than fathers?\n"
   ]
  },
  {
   "cell_type": "code",
   "execution_count": 11,
   "metadata": {},
   "outputs": [],
   "source": [
    "# My conclusion is that sons are really taller than fathers."
   ]
  },
  {
   "cell_type": "markdown",
   "metadata": {},
   "source": [
    "## 2 Now repeat the above with t-test"
   ]
  },
  {
   "cell_type": "markdown",
   "metadata": {},
   "source": [
    "1. (8pt) Compute standard error SE of the di\u001berence.\n"
   ]
  },
  {
   "cell_type": "code",
   "execution_count": 12,
   "metadata": {},
   "outputs": [
    {
     "data": {
      "text/plain": [
       "0.304185866556143"
      ]
     },
     "execution_count": 12,
     "metadata": {},
     "output_type": "execute_result"
    }
   ],
   "source": [
    "SE = ((f_std**2/1078)+(s_std**2/1078))**(0.5)\n",
    "SE"
   ]
  },
  {
   "cell_type": "markdown",
   "metadata": {},
   "source": [
    "2. (8pt) Compute 95% CI.\n",
    "Use the 5% two-tail con\u001c",
    "dence level to look up tcr values in t-distribution\n",
    "table. OIS has such a table in Appendix C.2, and google can \u001c",
    "nd a\n",
    "million of those.\n",
    "95% CI is given by µ ± tcr · SE where µ is the mean, SE is its standard\n",
    "error, and tcr is the critical value from the table.\n",
    "Hint 1: what is the degrees of freedom in current case? Consult OIS\n",
    "7.3.\n",
    "Hint 2: we need 2-tailed test as sons can be both taller and shorter\n",
    "than fathers."
   ]
  },
  {
   "cell_type": "code",
   "execution_count": 29,
   "metadata": {},
   "outputs": [
    {
     "data": {
      "text/plain": [
       "(1.935464807671973, 3.128542613478477)"
      ]
     },
     "execution_count": 29,
     "metadata": {},
     "output_type": "execute_result"
    }
   ],
   "source": [
    "# From table, the degree of freedom should be (n-1) + (n-1) which is 2(1078-1) which is 2154\n",
    "# According to google, the t value should be 1.9611\n",
    "diff = s_mean - f_mean\n",
    "t = 1.9611\n",
    "CI = (diff-t*SE, diff+t*SE)\n",
    "CI\n",
    "\n",
    "# The 95% CI is (1.935464807671973, 3.128542613478477)"
   ]
  },
  {
   "cell_type": "markdown",
   "metadata": {},
   "source": [
    "3. (6pt) What will you conclude based on CI: can you reject H0, fathers\n",
    "and sons are of equal height, at 5% level?"
   ]
  },
  {
   "cell_type": "code",
   "execution_count": 14,
   "metadata": {},
   "outputs": [],
   "source": [
    "# I can reject H0 at 5% level because my CI does not include 0, which means fathers and sons' heights are not equal at 5% level"
   ]
  },
  {
   "cell_type": "markdown",
   "metadata": {},
   "source": [
    "4. (6pt) Now perform the opposite operation: compute the t-value. When\n",
    "the you have mean µ and standard error SE, you can compute the tvalue by\n",
    "t =\n",
    "µ/\n",
    "SE\n",
    "Assume we do not have paired data here.\n",
    "Hint: the answer should by quite large, > 8."
   ]
  },
  {
   "cell_type": "code",
   "execution_count": 30,
   "metadata": {},
   "outputs": [
    {
     "data": {
      "text/plain": [
       "8.32387033375825"
      ]
     },
     "execution_count": 30,
     "metadata": {},
     "output_type": "execute_result"
    }
   ],
   "source": [
    "t_compute = diff/SE\n",
    "t_compute"
   ]
  },
  {
   "cell_type": "markdown",
   "metadata": {},
   "source": [
    "5. (6pt) What is the likelihood that such a t value happens just by random\n",
    "chance? Consult the t-table.\n"
   ]
  },
  {
   "cell_type": "code",
   "execution_count": 16,
   "metadata": {},
   "outputs": [],
   "source": [
    "# Less than 0.001"
   ]
  },
  {
   "cell_type": "markdown",
   "metadata": {},
   "source": [
    "6. (6pt) Finally, state your conclusion: are fathers taller than sons? Do\n",
    "all of your three methods: simulations, 95% CI, and t-value agree?\n"
   ]
  },
  {
   "cell_type": "code",
   "execution_count": 17,
   "metadata": {},
   "outputs": [],
   "source": [
    "# No, all of methods state that sons are taller than fathers."
   ]
  },
  {
   "cell_type": "markdown",
   "metadata": {},
   "source": [
    "## 3 Extra credit challenge (10pt = 1 EC)"
   ]
  },
  {
   "cell_type": "markdown",
   "metadata": {},
   "source": [
    "1. (3pt) First, time your simulations. Run a large number of simulations,\n",
    "say 1M, and measure how long it takes on your computer. It should\n",
    "take at least 5 seconds for your measurements to be precise enough.\n",
    "Now you can easily calculate how long it would take to run 1012 or so\n",
    "experiments.\n",
    "Hint: check out %timeit magic macro."
   ]
  },
  {
   "cell_type": "code",
   "execution_count": 18,
   "metadata": {},
   "outputs": [],
   "source": [
    "def fun():\n",
    "    for i in range(100000):\n",
    "        f_father = np.random.normal(combine.mean(), combine.std(), 1078)\n",
    "        f_son = np.random.normal(combine.mean(), combine.std(), 1078)\n",
    "        mean = f_father.mean() - f_son.mean()"
   ]
  },
  {
   "cell_type": "code",
   "execution_count": 19,
   "metadata": {},
   "outputs": [
    {
     "name": "stdout",
     "output_type": "stream",
     "text": [
      "23.1 s ± 1.32 s per loop (mean ± std. dev. of 7 runs, 1 loop each)\n"
     ]
    }
   ],
   "source": [
    "%timeit fun()\n",
    "# Times take to run 10^6 iterations is 23.1s"
   ]
  },
  {
   "cell_type": "code",
   "execution_count": 24,
   "metadata": {},
   "outputs": [
    {
     "data": {
      "text/plain": [
       "23100000.0"
      ]
     },
     "execution_count": 24,
     "metadata": {},
     "output_type": "execute_result"
    }
   ],
   "source": [
    "23.1*10**(6)\n",
    "# Times take to run 10^12 iterations is 23100000s"
   ]
  },
  {
   "cell_type": "markdown",
   "metadata": {},
   "source": [
    "2. (3pt) Second, what is the probability to receive such enormous tvalues? As these are o\u001b the t tables, you have to compute the corresponding probability yourself.\n",
    "Assume we are dealing with normal distribution. (Not quite but we\n",
    "are close.) You have to compute the probability you get a value larger\n",
    "than the t value you computed. This can be done along the lines:\n",
    "\n",
    "where you replace 1.96 with your actual t-value.\n",
    "Explain: why does the example use norm.cdf(-1.96) instead of norm.cdf(1.96)?"
   ]
  },
  {
   "cell_type": "code",
   "execution_count": 25,
   "metadata": {},
   "outputs": [
    {
     "name": "stdout",
     "output_type": "stream",
     "text": [
      "4.256836848516298e-17\n"
     ]
    }
   ],
   "source": [
    "from scipy import stats\n",
    "norm = stats.norm()\n",
    "p = norm.cdf(-t_compute)\n",
    "print(p)\n",
    "\n",
    "# The probability is 4.256836848516298e-17, use minus sign before the t is because it start from 0 and then we can get the probability \n",
    "# of t less than -t_compute directly."
   ]
  },
  {
   "cell_type": "markdown",
   "metadata": {},
   "source": [
    "3. (2pt) How many iterations you need? Let's do a shortcut\u0015if probability\n",
    "p is small, you need roughly 3/p iterations. So if p = 0.001, you need\n",
    "3000 iterations."
   ]
  },
  {
   "cell_type": "code",
   "execution_count": 26,
   "metadata": {},
   "outputs": [
    {
     "data": {
      "text/plain": [
       "7.047486447702681e+16"
      ]
     },
     "execution_count": 26,
     "metadata": {},
     "output_type": "execute_result"
    }
   ],
   "source": [
    "num_it = 3/p\n",
    "num_it\n",
    "\n",
    "# I need 7.047486447702681e+16 iterations"
   ]
  },
  {
   "cell_type": "markdown",
   "metadata": {},
   "source": [
    "4. (2pt) Based on the timings you did above, how many years do you\n",
    "have to run the simulations?\n",
    "If one had started the computer the year your grandfather was born,\n",
    "would it be there now?\n",
    "If the \u001c",
    "rst Seattle inhabitants had started it when they moved here\n",
    "following the melting ice, 10,000 or so years ago?\n",
    "If the last dinosaurs had started it 66,000,000 years ago? (But it must\n",
    "have been in Idaho or somewhere else, the land where Seattle is now\n",
    "did not exist back then.)\n"
   ]
  },
  {
   "cell_type": "code",
   "execution_count": 28,
   "metadata": {},
   "outputs": [
    {
     "data": {
      "text/plain": [
       "51622.57006022702"
      ]
     },
     "execution_count": 28,
     "metadata": {},
     "output_type": "execute_result"
    }
   ],
   "source": [
    "years = ((num_it)*(23.1)/(10**6)) / (60*60*24*365)\n",
    "years\n",
    "# It will take 51622.57 years to get such t value, which is far longer than time since my grandfather was born and first Seattle \n",
    "# inhabitants when they moved here, but it is less than 66,000,000 years."
   ]
  }
 ],
 "metadata": {
  "kernelspec": {
   "display_name": "Python 3",
   "language": "python",
   "name": "python3"
  },
  "language_info": {
   "codemirror_mode": {
    "name": "ipython",
    "version": 3
   },
   "file_extension": ".py",
   "mimetype": "text/x-python",
   "name": "python",
   "nbconvert_exporter": "python",
   "pygments_lexer": "ipython3",
   "version": "3.8.3"
  }
 },
 "nbformat": 4,
 "nbformat_minor": 4
}
