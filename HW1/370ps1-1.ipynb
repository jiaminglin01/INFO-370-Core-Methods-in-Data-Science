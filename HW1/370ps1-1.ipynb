{
 "cells": [
  {
   "cell_type": "markdown",
   "metadata": {},
   "source": [
    "# Jiaming"
   ]
  },
  {
   "cell_type": "markdown",
   "metadata": {},
   "source": [
    "# 1 Base Python"
   ]
  },
  {
   "cell_type": "code",
   "execution_count": 1,
   "metadata": {},
   "outputs": [
    {
     "name": "stdout",
     "output_type": "stream",
     "text": [
      "31536000\n",
      "2522880000\n",
      "599184000\n",
      "new variable\n",
      "False\n"
     ]
    }
   ],
   "source": [
    "sec_in_year = 60*60*24*365\n",
    "print(sec_in_year)\n",
    "human_sec = sec_in_year*80\n",
    "print(human_sec)\n",
    "my_sec = sec_in_year*19\n",
    "print(my_sec)\n",
    "new_var = \"new variable\"\n",
    "print(new_var)\n",
    "gre_700 = my_sec > 700000000\n",
    "print(gre_700)"
   ]
  },
  {
   "cell_type": "code",
   "execution_count": 2,
   "metadata": {},
   "outputs": [
    {
     "name": "stdout",
     "output_type": "stream",
     "text": [
      "['A Better Tomorrow', 'Forrest Gump', 'The Terminal', 'Infernal Affairs', 'Harry Porter', 'Pride and Prejudice']\n"
     ]
    }
   ],
   "source": [
    "movies = [\"A Better Tomorrow\", \"Forrest Gump\", \"The Terminal\", \"Infernal Affairs\", \"Harry Porter\", \"Pride and Prejudice\"]\n",
    "print(movies)"
   ]
  },
  {
   "cell_type": "code",
   "execution_count": 3,
   "metadata": {},
   "outputs": [
    {
     "name": "stdout",
     "output_type": "stream",
     "text": [
      "['A Better Tomorrow', 'Forrest Gump', 'The Terminal']\n"
     ]
    }
   ],
   "source": [
    "movie_f3 = movies[0:3]\n",
    "print(movie_f3)"
   ]
  },
  {
   "cell_type": "code",
   "execution_count": 4,
   "metadata": {},
   "outputs": [
    {
     "name": "stdout",
     "output_type": "stream",
     "text": [
      "['A Better Tomorrow', 'Forrest Gump', 'Harry Porter', 'Pride and Prejudice']\n"
     ]
    }
   ],
   "source": [
    "movie_22 = movies[0:2] + movies[-2:]\n",
    "print(movie_22)"
   ]
  },
  {
   "cell_type": "code",
   "execution_count": 5,
   "metadata": {},
   "outputs": [
    {
     "name": "stdout",
     "output_type": "stream",
     "text": [
      "[70, 71, 72, 73, 74, 75, 76, 77, 78, 79]\n",
      "74.5\n",
      "5050\n",
      "93326215443944152681699238856266700490715968264381621468592963895217599993229915608941463976156518286253697920827223758251185210916864000000000000000000000000\n"
     ]
    }
   ],
   "source": [
    "numbers = []\n",
    "for i in range(70, 80):\n",
    "    numbers.append(i)\n",
    "print(numbers)\n",
    "    \n",
    "total = 0\n",
    "for x in numbers:\n",
    "    total = total + x\n",
    "mean = total/len(numbers)\n",
    "print(mean)\n",
    "\n",
    "sum100 = 0\n",
    "for i in range(101):\n",
    "    sum100 = sum100 + i\n",
    "print(sum100)\n",
    "    \n",
    "time100 = 1\n",
    "for i in range(100):\n",
    "    time100 = time100 * (i+1)\n",
    "print(time100)"
   ]
  },
  {
   "cell_type": "code",
   "execution_count": 6,
   "metadata": {},
   "outputs": [
    {
     "name": "stdout",
     "output_type": "stream",
     "text": [
      "{'create': 1, 'a': 4, 'word': 3, 'frequency': 1, 'table': 1, 'using': 1, 'dicts': 1, 'that': 2, 'take': 2, 'looong': 1, 'string': 1, '(feel': 1, 'free': 1, 'to': 2, 'copy-paste': 1, 'some': 1, 'text': 1, 'here),': 1, 'splits': 1, 'it': 2, 'into': 1, 'individual': 2, 'words,': 1, 'and': 3, 'counts': 1, 'the': 4, 'number': 1, 'of': 2, 'occurrencies': 1, 'each': 1, '(and': 1, 'prints': 1, 'result).': 1, \"let's\": 1, 'ignore': 1, 'punctuation.': 1, 'your': 1, 'code': 1, 'should': 1, 'run': 1, 'over': 1, 'words': 1, 'increase': 1, 'counter': 1, 'for': 1, 'word,': 1, 'stored': 1, 'in': 2, 'list.': 1, 'has': 1, 'check': 1, 'if': 2, 'exists': 1, 'dictionary,': 1, 'not,': 1, 'an': 1, 'appropriate': 1, 'action.': 1}\n"
     ]
    }
   ],
   "source": [
    "str = \"\"\"Create a word frequency table using dicts that take a looong string (feel free to copy-paste some text\n",
    "here), splits it into individual words, and counts the number of occurrencies of each word (and prints\n",
    "the result). Let's ignore punctuation. Your code should run over individual words and increase the\n",
    "counter for that word, stored in a list. It has to check if a word exists in the dictionary, and if not,\n",
    "take an appropriate action.\"\"\"\n",
    "\n",
    "table = str.split()\n",
    "table = [x.lower() for x in table]\n",
    "dict = {}\n",
    "for x in table:\n",
    "    if (x in dict):\n",
    "        dict[x] += 1\n",
    "    else:\n",
    "        dict[x] = 1\n",
    "        \n",
    "print(dict)"
   ]
  },
  {
   "cell_type": "code",
   "execution_count": 7,
   "metadata": {},
   "outputs": [
    {
     "name": "stdout",
     "output_type": "stream",
     "text": [
      "10.25 3.75\n"
     ]
    }
   ],
   "source": [
    "def hhhh(x):\n",
    "    hour = x//100\n",
    "    minute = x%100\n",
    "    return hour + minute/60\n",
    "\n",
    "print(hhhh(1015), hhhh(345))"
   ]
  },
  {
   "cell_type": "markdown",
   "metadata": {},
   "source": [
    "# 2"
   ]
  },
  {
   "cell_type": "code",
   "execution_count": 8,
   "metadata": {},
   "outputs": [],
   "source": [
    "import numpy as np\n",
    "import pandas as pd"
   ]
  },
  {
   "cell_type": "markdown",
   "metadata": {},
   "source": [
    "## 2.1"
   ]
  },
  {
   "cell_type": "code",
   "execution_count": 9,
   "metadata": {},
   "outputs": [],
   "source": [
    "nyc = pd.read_csv(\"C:/Users/jlin8/Desktop/nycflights13.csv.bz2\", sep = \"\\t\")\n",
    "#load data"
   ]
  },
  {
   "cell_type": "markdown",
   "metadata": {},
   "source": [
    "## 2.2"
   ]
  },
  {
   "cell_type": "code",
   "execution_count": 10,
   "metadata": {},
   "outputs": [
    {
     "data": {
      "text/html": [
       "<div>\n",
       "<style scoped>\n",
       "    .dataframe tbody tr th:only-of-type {\n",
       "        vertical-align: middle;\n",
       "    }\n",
       "\n",
       "    .dataframe tbody tr th {\n",
       "        vertical-align: top;\n",
       "    }\n",
       "\n",
       "    .dataframe thead th {\n",
       "        text-align: right;\n",
       "    }\n",
       "</style>\n",
       "<table border=\"1\" class=\"dataframe\">\n",
       "  <thead>\n",
       "    <tr style=\"text-align: right;\">\n",
       "      <th></th>\n",
       "      <th>year</th>\n",
       "      <th>month</th>\n",
       "      <th>day</th>\n",
       "      <th>dep_time</th>\n",
       "      <th>sched_dep_time</th>\n",
       "      <th>dep_delay</th>\n",
       "      <th>arr_time</th>\n",
       "      <th>sched_arr_time</th>\n",
       "      <th>arr_delay</th>\n",
       "      <th>carrier</th>\n",
       "      <th>flight</th>\n",
       "      <th>tailnum</th>\n",
       "      <th>origin</th>\n",
       "      <th>dest</th>\n",
       "      <th>air_time</th>\n",
       "      <th>distance</th>\n",
       "      <th>hour</th>\n",
       "      <th>minute</th>\n",
       "      <th>time_hour</th>\n",
       "    </tr>\n",
       "  </thead>\n",
       "  <tbody>\n",
       "    <tr>\n",
       "      <th>0</th>\n",
       "      <td>2013</td>\n",
       "      <td>1</td>\n",
       "      <td>1</td>\n",
       "      <td>517.0</td>\n",
       "      <td>515</td>\n",
       "      <td>2.0</td>\n",
       "      <td>830.0</td>\n",
       "      <td>819</td>\n",
       "      <td>11.0</td>\n",
       "      <td>UA</td>\n",
       "      <td>1545</td>\n",
       "      <td>N14228</td>\n",
       "      <td>EWR</td>\n",
       "      <td>IAH</td>\n",
       "      <td>227.0</td>\n",
       "      <td>1400</td>\n",
       "      <td>5</td>\n",
       "      <td>15</td>\n",
       "      <td>2013-01-01T10:00:00Z</td>\n",
       "    </tr>\n",
       "    <tr>\n",
       "      <th>1</th>\n",
       "      <td>2013</td>\n",
       "      <td>1</td>\n",
       "      <td>1</td>\n",
       "      <td>533.0</td>\n",
       "      <td>529</td>\n",
       "      <td>4.0</td>\n",
       "      <td>850.0</td>\n",
       "      <td>830</td>\n",
       "      <td>20.0</td>\n",
       "      <td>UA</td>\n",
       "      <td>1714</td>\n",
       "      <td>N24211</td>\n",
       "      <td>LGA</td>\n",
       "      <td>IAH</td>\n",
       "      <td>227.0</td>\n",
       "      <td>1416</td>\n",
       "      <td>5</td>\n",
       "      <td>29</td>\n",
       "      <td>2013-01-01T10:00:00Z</td>\n",
       "    </tr>\n",
       "    <tr>\n",
       "      <th>2</th>\n",
       "      <td>2013</td>\n",
       "      <td>1</td>\n",
       "      <td>1</td>\n",
       "      <td>542.0</td>\n",
       "      <td>540</td>\n",
       "      <td>2.0</td>\n",
       "      <td>923.0</td>\n",
       "      <td>850</td>\n",
       "      <td>33.0</td>\n",
       "      <td>AA</td>\n",
       "      <td>1141</td>\n",
       "      <td>N619AA</td>\n",
       "      <td>JFK</td>\n",
       "      <td>MIA</td>\n",
       "      <td>160.0</td>\n",
       "      <td>1089</td>\n",
       "      <td>5</td>\n",
       "      <td>40</td>\n",
       "      <td>2013-01-01T10:00:00Z</td>\n",
       "    </tr>\n",
       "    <tr>\n",
       "      <th>3</th>\n",
       "      <td>2013</td>\n",
       "      <td>1</td>\n",
       "      <td>1</td>\n",
       "      <td>544.0</td>\n",
       "      <td>545</td>\n",
       "      <td>-1.0</td>\n",
       "      <td>1004.0</td>\n",
       "      <td>1022</td>\n",
       "      <td>-18.0</td>\n",
       "      <td>B6</td>\n",
       "      <td>725</td>\n",
       "      <td>N804JB</td>\n",
       "      <td>JFK</td>\n",
       "      <td>BQN</td>\n",
       "      <td>183.0</td>\n",
       "      <td>1576</td>\n",
       "      <td>5</td>\n",
       "      <td>45</td>\n",
       "      <td>2013-01-01T10:00:00Z</td>\n",
       "    </tr>\n",
       "    <tr>\n",
       "      <th>4</th>\n",
       "      <td>2013</td>\n",
       "      <td>1</td>\n",
       "      <td>1</td>\n",
       "      <td>554.0</td>\n",
       "      <td>600</td>\n",
       "      <td>-6.0</td>\n",
       "      <td>812.0</td>\n",
       "      <td>837</td>\n",
       "      <td>-25.0</td>\n",
       "      <td>DL</td>\n",
       "      <td>461</td>\n",
       "      <td>N668DN</td>\n",
       "      <td>LGA</td>\n",
       "      <td>ATL</td>\n",
       "      <td>116.0</td>\n",
       "      <td>762</td>\n",
       "      <td>6</td>\n",
       "      <td>0</td>\n",
       "      <td>2013-01-01T11:00:00Z</td>\n",
       "    </tr>\n",
       "  </tbody>\n",
       "</table>\n",
       "</div>"
      ],
      "text/plain": [
       "   year  month  day  dep_time  sched_dep_time  dep_delay  arr_time  \\\n",
       "0  2013      1    1     517.0             515        2.0     830.0   \n",
       "1  2013      1    1     533.0             529        4.0     850.0   \n",
       "2  2013      1    1     542.0             540        2.0     923.0   \n",
       "3  2013      1    1     544.0             545       -1.0    1004.0   \n",
       "4  2013      1    1     554.0             600       -6.0     812.0   \n",
       "\n",
       "   sched_arr_time  arr_delay carrier  flight tailnum origin dest  air_time  \\\n",
       "0             819       11.0      UA    1545  N14228    EWR  IAH     227.0   \n",
       "1             830       20.0      UA    1714  N24211    LGA  IAH     227.0   \n",
       "2             850       33.0      AA    1141  N619AA    JFK  MIA     160.0   \n",
       "3            1022      -18.0      B6     725  N804JB    JFK  BQN     183.0   \n",
       "4             837      -25.0      DL     461  N668DN    LGA  ATL     116.0   \n",
       "\n",
       "   distance  hour  minute             time_hour  \n",
       "0      1400     5      15  2013-01-01T10:00:00Z  \n",
       "1      1416     5      29  2013-01-01T10:00:00Z  \n",
       "2      1089     5      40  2013-01-01T10:00:00Z  \n",
       "3      1576     5      45  2013-01-01T10:00:00Z  \n",
       "4       762     6       0  2013-01-01T11:00:00Z  "
      ]
     },
     "execution_count": 10,
     "metadata": {},
     "output_type": "execute_result"
    }
   ],
   "source": [
    "nyc.columns\n",
    "nyc.head()"
   ]
  },
  {
   "cell_type": "code",
   "execution_count": 11,
   "metadata": {},
   "outputs": [
    {
     "name": "stdout",
     "output_type": "stream",
     "text": [
      "(336776, 19)\n"
     ]
    }
   ],
   "source": [
    "print(nyc.shape)\n",
    "#1. There are 336776 flights out of NYC in 2013"
   ]
  },
  {
   "cell_type": "code",
   "execution_count": 12,
   "metadata": {},
   "outputs": [
    {
     "name": "stdout",
     "output_type": "stream",
     "text": [
      "EWR    120835\n",
      "JFK    111279\n",
      "LGA    104662\n",
      "Name: origin, dtype: int64\n"
     ]
    }
   ],
   "source": [
    "print(nyc[\"origin\"].value_counts())\n",
    "#2 There are three NYC airports included, which are EWR, JFK, and LGA"
   ]
  },
  {
   "cell_type": "code",
   "execution_count": 13,
   "metadata": {},
   "outputs": [
    {
     "name": "stdout",
     "output_type": "stream",
     "text": [
      "ORD    17283\n",
      "ATL    17215\n",
      "LAX    16174\n",
      "BOS    15508\n",
      "MCO    14082\n",
      "       ...  \n",
      "MTJ       15\n",
      "SBN       10\n",
      "ANC        8\n",
      "LGA        1\n",
      "LEX        1\n",
      "Name: dest, Length: 105, dtype: int64\n"
     ]
    }
   ],
   "source": [
    "print(nyc[\"dest\"].value_counts())\n",
    "#3 There are 105 airports airlines fly from NYC."
   ]
  },
  {
   "cell_type": "code",
   "execution_count": 14,
   "metadata": {},
   "outputs": [
    {
     "data": {
      "text/plain": [
       "(3923, 19)"
      ]
     },
     "execution_count": 14,
     "metadata": {},
     "output_type": "execute_result"
    }
   ],
   "source": [
    "nyc[nyc[\"dest\"] == \"SEA\"].shape\n",
    "#4 There are 3923 flights to Seattle from NYC"
   ]
  },
  {
   "cell_type": "code",
   "execution_count": 15,
   "metadata": {},
   "outputs": [
    {
     "data": {
      "text/plain": [
       "(0, 19)"
      ]
     },
     "execution_count": 15,
     "metadata": {},
     "output_type": "execute_result"
    }
   ],
   "source": [
    "nyc[nyc[\"dest\"] == \"GEG\"].shape\n",
    "#5 There is 0 flight to GEG from NYC"
   ]
  },
  {
   "cell_type": "code",
   "execution_count": 16,
   "metadata": {},
   "outputs": [
    {
     "data": {
      "text/plain": [
       "-5.0"
      ]
     },
     "execution_count": 16,
     "metadata": {},
     "output_type": "execute_result"
    }
   ],
   "source": [
    "nyc.arr_delay.median()\n",
    "#6 The typical delay of the flight is -5 minutes"
   ]
  },
  {
   "cell_type": "code",
   "execution_count": 17,
   "metadata": {},
   "outputs": [
    {
     "data": {
      "text/plain": [
       "9430"
      ]
     },
     "execution_count": 17,
     "metadata": {},
     "output_type": "execute_result"
    }
   ],
   "source": [
    "nyc.arr_delay.isnull().sum()\n",
    "#7 There are 9430 missing values."
   ]
  },
  {
   "cell_type": "code",
   "execution_count": 18,
   "metadata": {},
   "outputs": [],
   "source": [
    "#8 for question 6, I choose median delay time to represent typical delay time, but it also could be mean. I think median can better \n",
    "# represent the center of a unknown distribution since it affected less by outlier than mean."
   ]
  },
  {
   "cell_type": "markdown",
   "metadata": {},
   "source": [
    "## 2.3"
   ]
  },
  {
   "cell_type": "code",
   "execution_count": 19,
   "metadata": {},
   "outputs": [
    {
     "data": {
      "text/plain": [
       "(7266, 19)"
      ]
     },
     "execution_count": 19,
     "metadata": {},
     "output_type": "execute_result"
    }
   ],
   "source": [
    "den = nyc[nyc[\"dest\"] == \"DEN\"]\n",
    "den.shape\n",
    "#1 There are 7266 flights to Denver from NYC"
   ]
  },
  {
   "cell_type": "code",
   "execution_count": 20,
   "metadata": {},
   "outputs": [
    {
     "data": {
      "text/plain": [
       "UA    3796\n",
       "WN    1404\n",
       "DL    1043\n",
       "F9     685\n",
       "B6     338\n",
       "Name: carrier, dtype: int64"
      ]
     },
     "execution_count": 20,
     "metadata": {},
     "output_type": "execute_result"
    }
   ],
   "source": [
    "den.carrier.value_counts()\n",
    "#2,3 There are total five airlines, UA with 3796 flights, WN with 1404 flights, DL with 1043 flights, F9 with 685 flights,\n",
    "# and B6 with 338 flights"
   ]
  },
  {
   "cell_type": "code",
   "execution_count": 21,
   "metadata": {},
   "outputs": [
    {
     "name": "stdout",
     "output_type": "stream",
     "text": [
      "139.43688101548332\n",
      "226.47872785604687\n"
     ]
    }
   ],
   "source": [
    "dend = den.dropna()\n",
    "# transform time to minutes\n",
    "dp_min = dend[\"dep_time\"]//100 * 60 + dend[\"dep_time\"]%100\n",
    "ar_min = dend[\"arr_time\"]//100 * 60 + dend[\"arr_time\"]%100\n",
    "# if planes fly through two days, then add one day time(1440 minutes) at arrival time\n",
    "for i in range(7169):\n",
    "    if (dp_min.iloc[i] >= 1000) & (ar_min.iloc[i] <= 400):\n",
    "        ar_min.iloc[i] = ar_min.iloc[i] + 1440\n",
    "#calculate the difference\n",
    "air_min = np.abs(ar_min - dp_min)\n",
    "print(air_min.mean())\n",
    "print(dend.air_time.mean())\n",
    "#4 My calculation of flight time using arrival and departure time is 139.44 minutes and the mean of air_time variable is 226.48 minutes \n",
    "# I found there is difference, I think it is because the air_time variable is not arr_time - dep_time"
   ]
  },
  {
   "cell_type": "code",
   "execution_count": 22,
   "metadata": {},
   "outputs": [
    {
     "data": {
      "text/plain": [
       "0.2625928984310487"
      ]
     },
     "execution_count": 22,
     "metadata": {},
     "output_type": "execute_result"
    }
   ],
   "source": [
    "len(den[den[\"arr_delay\"] > 15])/len(den)\n",
    "#5 The percentage of delay greater than 15 minutes is 26.26%"
   ]
  },
  {
   "cell_type": "markdown",
   "metadata": {},
   "source": [
    "## 2.4"
   ]
  },
  {
   "cell_type": "code",
   "execution_count": 23,
   "metadata": {},
   "outputs": [],
   "source": [
    "plane = pd.read_csv(\"C:/Users/jlin8/Desktop/planes.csv.bz2\", sep = \"\\t\")\n",
    "#1 load planes data"
   ]
  },
  {
   "cell_type": "code",
   "execution_count": 24,
   "metadata": {},
   "outputs": [
    {
     "name": "stdout",
     "output_type": "stream",
     "text": [
      "Index(['tailnum', 'year', 'type', 'manufacturer', 'model', 'engines', 'seats',\n",
      "       'speed', 'engine'],\n",
      "      dtype='object')\n",
      "(3322, 9)\n"
     ]
    }
   ],
   "source": [
    "print(plane.columns)\n",
    "print(plane.shape)\n",
    "#1 The variables we have is the output below\n",
    "#1 We have 3322 planes"
   ]
  },
  {
   "cell_type": "code",
   "execution_count": 25,
   "metadata": {},
   "outputs": [],
   "source": [
    "result = pd.merge(den, plane, on= ['tailnum'])\n",
    "#2,3 I do a left join and merge key is tailnum. left is den which is subset of nyc dataframes, and right is planes dataframe"
   ]
  },
  {
   "cell_type": "code",
   "execution_count": 26,
   "metadata": {},
   "outputs": [
    {
     "data": {
      "text/plain": [
       "239"
      ]
     },
     "execution_count": 26,
     "metadata": {},
     "output_type": "execute_result"
    }
   ],
   "source": [
    "len(den) - len(result)\n",
    "#4 There are 239 flights that we do not have seats information"
   ]
  },
  {
   "cell_type": "code",
   "execution_count": 27,
   "metadata": {},
   "outputs": [
    {
     "name": "stdout",
     "output_type": "stream",
     "text": [
      "330\n",
      "      seats manufacturer    model  year_y\n",
      "5546    330       BOEING  767-322  1999.0\n",
      "6964    330       BOEING  767-322  1998.0\n"
     ]
    }
   ],
   "source": [
    "print(result.seats.max())\n",
    "max_seats = result[result[\"seats\"] == 330]\n",
    "max_seats = max_seats[[\"seats\", \"manufacturer\", \"model\", \"year_y\"]]\n",
    "print(max_seats)\n",
    "#5 Two largest plane are both BOEING 767-322 built in 1998 and 1999 with 330 seats"
   ]
  },
  {
   "cell_type": "markdown",
   "metadata": {},
   "source": [
    "1. My greatest concern is about the expression of values are consistent and missing value since I cannot see all of a large data frame.\n",
    "  From questions about calculate the late times, I can get an idea about how likely a plane will be late from data. The data is good, there is not much missing value compared to the number of rows and expression of values seems consistent.\n",
    "2. I think I can analyze, for instance, which time period is more likely to be late, or which type of plane usually arrives sooner.\n",
    "3. About 5 hours"
   ]
  }
 ],
 "metadata": {
  "kernelspec": {
   "display_name": "Python 3",
   "language": "python",
   "name": "python3"
  },
  "language_info": {
   "codemirror_mode": {
    "name": "ipython",
    "version": 3
   },
   "file_extension": ".py",
   "mimetype": "text/x-python",
   "name": "python",
   "nbconvert_exporter": "python",
   "pygments_lexer": "ipython3",
   "version": "3.8.3"
  }
 },
 "nbformat": 4,
 "nbformat_minor": 4
}
