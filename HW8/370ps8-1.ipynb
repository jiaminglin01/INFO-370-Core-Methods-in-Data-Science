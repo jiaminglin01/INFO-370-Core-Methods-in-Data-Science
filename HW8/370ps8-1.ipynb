{
 "cells": [
  {
   "cell_type": "markdown",
   "metadata": {},
   "source": [
    "# Jiaming Lin"
   ]
  },
  {
   "cell_type": "code",
   "execution_count": 1,
   "metadata": {},
   "outputs": [],
   "source": [
    "import pandas as pd\n",
    "import numpy as np\n",
    "import warnings\n",
    "warnings.filterwarnings('ignore')"
   ]
  },
  {
   "cell_type": "markdown",
   "metadata": {},
   "source": [
    "## 1 Is COMPAS fair? (60pt)"
   ]
  },
  {
   "cell_type": "markdown",
   "metadata": {},
   "source": [
    "#### 1. (2pt) Load the COMPAS data, and perform a basic sanity checks."
   ]
  },
  {
   "cell_type": "code",
   "execution_count": 2,
   "metadata": {},
   "outputs": [
    {
     "name": "stdout",
     "output_type": "stream",
     "text": [
      "(6172, 14)\n",
      "Unnamed: 0                 0\n",
      "age                        0\n",
      "c_charge_degree            0\n",
      "race                       0\n",
      "age_cat                    0\n",
      "score_text                 0\n",
      "sex                        0\n",
      "priors_count               0\n",
      "days_b_screening_arrest    0\n",
      "decile_score               0\n",
      "is_recid                   0\n",
      "two_year_recid             0\n",
      "c_jail_in                  0\n",
      "c_jail_out                 0\n",
      "dtype: int64\n"
     ]
    },
    {
     "data": {
      "text/html": [
       "<div>\n",
       "<style scoped>\n",
       "    .dataframe tbody tr th:only-of-type {\n",
       "        vertical-align: middle;\n",
       "    }\n",
       "\n",
       "    .dataframe tbody tr th {\n",
       "        vertical-align: top;\n",
       "    }\n",
       "\n",
       "    .dataframe thead th {\n",
       "        text-align: right;\n",
       "    }\n",
       "</style>\n",
       "<table border=\"1\" class=\"dataframe\">\n",
       "  <thead>\n",
       "    <tr style=\"text-align: right;\">\n",
       "      <th></th>\n",
       "      <th>Unnamed: 0</th>\n",
       "      <th>age</th>\n",
       "      <th>c_charge_degree</th>\n",
       "      <th>race</th>\n",
       "      <th>age_cat</th>\n",
       "      <th>score_text</th>\n",
       "      <th>sex</th>\n",
       "      <th>priors_count</th>\n",
       "      <th>days_b_screening_arrest</th>\n",
       "      <th>decile_score</th>\n",
       "      <th>is_recid</th>\n",
       "      <th>two_year_recid</th>\n",
       "      <th>c_jail_in</th>\n",
       "      <th>c_jail_out</th>\n",
       "    </tr>\n",
       "  </thead>\n",
       "  <tbody>\n",
       "    <tr>\n",
       "      <th>0</th>\n",
       "      <td>1</td>\n",
       "      <td>69</td>\n",
       "      <td>F</td>\n",
       "      <td>Other</td>\n",
       "      <td>Greater than 45</td>\n",
       "      <td>Low</td>\n",
       "      <td>Male</td>\n",
       "      <td>0</td>\n",
       "      <td>-1</td>\n",
       "      <td>1</td>\n",
       "      <td>0</td>\n",
       "      <td>0</td>\n",
       "      <td>2013-08-13 06:03:42</td>\n",
       "      <td>2013-08-14 05:41:20</td>\n",
       "    </tr>\n",
       "    <tr>\n",
       "      <th>1</th>\n",
       "      <td>2</td>\n",
       "      <td>34</td>\n",
       "      <td>F</td>\n",
       "      <td>African-American</td>\n",
       "      <td>25 - 45</td>\n",
       "      <td>Low</td>\n",
       "      <td>Male</td>\n",
       "      <td>0</td>\n",
       "      <td>-1</td>\n",
       "      <td>3</td>\n",
       "      <td>1</td>\n",
       "      <td>1</td>\n",
       "      <td>2013-01-26 03:45:27</td>\n",
       "      <td>2013-02-05 05:36:53</td>\n",
       "    </tr>\n",
       "    <tr>\n",
       "      <th>2</th>\n",
       "      <td>3</td>\n",
       "      <td>24</td>\n",
       "      <td>F</td>\n",
       "      <td>African-American</td>\n",
       "      <td>Less than 25</td>\n",
       "      <td>Low</td>\n",
       "      <td>Male</td>\n",
       "      <td>4</td>\n",
       "      <td>-1</td>\n",
       "      <td>4</td>\n",
       "      <td>1</td>\n",
       "      <td>1</td>\n",
       "      <td>2013-04-13 04:58:34</td>\n",
       "      <td>2013-04-14 07:02:04</td>\n",
       "    </tr>\n",
       "    <tr>\n",
       "      <th>3</th>\n",
       "      <td>4</td>\n",
       "      <td>44</td>\n",
       "      <td>M</td>\n",
       "      <td>Other</td>\n",
       "      <td>25 - 45</td>\n",
       "      <td>Low</td>\n",
       "      <td>Male</td>\n",
       "      <td>0</td>\n",
       "      <td>0</td>\n",
       "      <td>1</td>\n",
       "      <td>0</td>\n",
       "      <td>0</td>\n",
       "      <td>2013-11-30 04:50:18</td>\n",
       "      <td>2013-12-01 12:28:56</td>\n",
       "    </tr>\n",
       "    <tr>\n",
       "      <th>4</th>\n",
       "      <td>5</td>\n",
       "      <td>41</td>\n",
       "      <td>F</td>\n",
       "      <td>Caucasian</td>\n",
       "      <td>25 - 45</td>\n",
       "      <td>Medium</td>\n",
       "      <td>Male</td>\n",
       "      <td>14</td>\n",
       "      <td>-1</td>\n",
       "      <td>6</td>\n",
       "      <td>1</td>\n",
       "      <td>1</td>\n",
       "      <td>2014-02-18 05:08:24</td>\n",
       "      <td>2014-02-24 12:18:30</td>\n",
       "    </tr>\n",
       "  </tbody>\n",
       "</table>\n",
       "</div>"
      ],
      "text/plain": [
       "   Unnamed: 0  age c_charge_degree              race          age_cat  \\\n",
       "0           1   69               F             Other  Greater than 45   \n",
       "1           2   34               F  African-American          25 - 45   \n",
       "2           3   24               F  African-American     Less than 25   \n",
       "3           4   44               M             Other          25 - 45   \n",
       "4           5   41               F         Caucasian          25 - 45   \n",
       "\n",
       "  score_text   sex  priors_count  days_b_screening_arrest  decile_score  \\\n",
       "0        Low  Male             0                       -1             1   \n",
       "1        Low  Male             0                       -1             3   \n",
       "2        Low  Male             4                       -1             4   \n",
       "3        Low  Male             0                        0             1   \n",
       "4     Medium  Male            14                       -1             6   \n",
       "\n",
       "   is_recid  two_year_recid            c_jail_in           c_jail_out  \n",
       "0         0               0  2013-08-13 06:03:42  2013-08-14 05:41:20  \n",
       "1         1               1  2013-01-26 03:45:27  2013-02-05 05:36:53  \n",
       "2         1               1  2013-04-13 04:58:34  2013-04-14 07:02:04  \n",
       "3         0               0  2013-11-30 04:50:18  2013-12-01 12:28:56  \n",
       "4         1               1  2014-02-18 05:08:24  2014-02-24 12:18:30  "
      ]
     },
     "execution_count": 2,
     "metadata": {},
     "output_type": "execute_result"
    }
   ],
   "source": [
    "cs = pd.read_csv(\"compas-score-two-years-reduced-370.csv.bz2\")\n",
    "print(cs.shape)\n",
    "print(cs.isna().sum())\n",
    "cs.head(5)"
   ]
  },
  {
   "cell_type": "markdown",
   "metadata": {},
   "source": [
    "#### 2. (2pt) Filter the data to keep only only Caucasian and African-Americans."
   ]
  },
  {
   "cell_type": "code",
   "execution_count": 3,
   "metadata": {},
   "outputs": [],
   "source": [
    "cs = cs[(cs[\"race\"] == \"African-American\") | (cs[\"race\"] == \"Caucasian\")]"
   ]
  },
  {
   "cell_type": "markdown",
   "metadata": {},
   "source": [
    "#### 3. (2pt) Create a new dummy variable based off of COMPAS' risk score (decile_score), which indicates if an individual was classified as low risk (score 1-4) or high risk (score 5-10)."
   ]
  },
  {
   "cell_type": "code",
   "execution_count": 4,
   "metadata": {},
   "outputs": [],
   "source": [
    "cs[\"risk_level\"] = cs.decile_score\n",
    "cs[\"risk_level\"] = pd.to_numeric(cs.risk_level)\n",
    "cs[\"risk_level\"].loc[(cs[\"risk_level\"] <= 4)] = 0\n",
    "cs[\"risk_level\"].loc[(cs[\"risk_level\"] >= 5)] = 1 "
   ]
  },
  {
   "cell_type": "markdown",
   "metadata": {},
   "source": [
    "#### 4. (6pt) Now analyze the offenders across this new risk category:\n",
    "\n",
    "#### (a) What is the recidivism rate for low-risk and high-risk individuals?\n",
    "\n",
    "#### (b) What are the recidivism rates for African-Americans and Caucasians?"
   ]
  },
  {
   "cell_type": "code",
   "execution_count": 5,
   "metadata": {},
   "outputs": [
    {
     "name": "stdout",
     "output_type": "stream",
     "text": [
      "(2753, 15)\n",
      "(881, 15)\n",
      "The recidivism rate for low-risk is 0.3200145296040683\n",
      "(2525, 15)\n",
      "(1602, 15)\n",
      "The recidivism rate for high-risk is 0.6344554455445545\n",
      "(2103, 15)\n",
      "(822, 15)\n",
      "The recidivism rate for Caucasian is 0.3908701854493581\n",
      "(3175, 15)\n",
      "(1661, 15)\n",
      "The recidivism rate for Aferican-American is 0.5231496062992126\n"
     ]
    }
   ],
   "source": [
    "#(a)\n",
    "low = cs[cs.risk_level == 0]\n",
    "print(low.shape)\n",
    "\n",
    "low_re = low[low.two_year_recid == 1]\n",
    "print(low_re.shape)\n",
    "\n",
    "print(\"The recidivism rate for low-risk is \" + str(881/2753))\n",
    "\n",
    "high = cs[cs.risk_level == 1]\n",
    "print(high.shape)\n",
    "\n",
    "high_re = high[high.two_year_recid == 1]\n",
    "print(high_re.shape)\n",
    "\n",
    "print(\"The recidivism rate for high-risk is \" + str(1602/2525))\n",
    "\n",
    "#b\n",
    "cau = cs[cs.race == \"Caucasian\"]\n",
    "print(cau.shape)\n",
    "\n",
    "cau_re = cau[cau.two_year_recid == 1]\n",
    "print(cau_re.shape)\n",
    "\n",
    "print(\"The recidivism rate for Caucasian is \" + str(822/2103))\n",
    "\n",
    "aa = cs[cs.race == \"African-American\"]\n",
    "print(aa.shape)\n",
    "\n",
    "aa_re = aa[aa.two_year_recid == 1]\n",
    "print(aa_re.shape)\n",
    "\n",
    "print(\"The recidivism rate for Aferican-American is \" + str(1661/3175))\n",
    "\n",
    "# The recidivism rate for low-risk is 0.3200\n",
    "# The recidivism rate for high-risk is 0.6345\n",
    "# The recidivism rate for Caucasian is 0.3909\n",
    "# The recidivism rate for Aferican-American is 0.5231"
   ]
  },
  {
   "cell_type": "markdown",
   "metadata": {},
   "source": [
    "#### 5. (10 pt) Now create a confusion matrix comparing COMPAS predictions for recidivism (low risk/high risk) and the actual two-year recidivism and interpret the results."
   ]
  },
  {
   "cell_type": "code",
   "execution_count": 6,
   "metadata": {},
   "outputs": [
    {
     "name": "stdout",
     "output_type": "stream",
     "text": [
      "1872\n",
      "923\n"
     ]
    }
   ],
   "source": [
    "# Total: 5278\n",
    "\n",
    "# low risk and no recidivism: 1872\n",
    "print(2753-881)\n",
    "# high risk and no recidivism: 923\n",
    "print(2525-1602)"
   ]
  },
  {
   "cell_type": "markdown",
   "metadata": {},
   "source": [
    "Confusion Matrix for COMPAS: No for Low risk(no recidivists), Yes for High risk(recidivists)\n",
    "\n",
    "|            | No(predict) | Yes(predict)               |\n",
    "| :---        |    :----:   |          ---: |\n",
    "| No(actual)        | 1872         | 923           |\n",
    "| Yes(actual)        | 881      | 1602               |"
   ]
  },
  {
   "cell_type": "markdown",
   "metadata": {},
   "source": [
    "The accuracy is 0.6582, which means that 65.82% of individuals. The precision is 0.6345, which means that the percentage of correctness is 63.45% when individuals are predicted recidivists. The recall is 0.6452, which means that the for all recidivists, it predicted correct 64.52% of recidivists. F1 score is 0.6398.\n",
    "33.02% not recidivists were falsly classifed as high-risk, and 35.48% recidivists were falsly classifed as low-risk."
   ]
  },
  {
   "cell_type": "markdown",
   "metadata": {},
   "source": [
    "#### 6. (12pt) Note the accuracy of the COMPAS classification, and also how its errors were distributed. Would you feel comfortable having a judge to use COMPAS to inform sentencing guidelines? At what point would the error/misclassification risk be acceptable for you?\n"
   ]
  },
  {
   "cell_type": "markdown",
   "metadata": {},
   "source": [
    "I don't feel comfortable because its accuracy, precision and recall are both not good. If COMPAS classification plays an important role in judges, I will accept to use it at least all those values are 75% correct."
   ]
  },
  {
   "cell_type": "markdown",
   "metadata": {},
   "source": [
    "#### 7. (14pt) Now, you repeat your confusion matrix calculation and analysis from 5. But this time do it separately for African-Americans and for Caucasians: (a) How accurate is the COMPAS classification for African-American individuals? For Caucasians? (b) What are the false positive rates FPR = FP/N = FP/(FP + TN)?(c) The false negative rates FNR = FN/P = FN/(FN + TP)?\n"
   ]
  },
  {
   "cell_type": "code",
   "execution_count": 7,
   "metadata": {},
   "outputs": [
    {
     "name": "stdout",
     "output_type": "stream",
     "text": [
      "Number of Caucasians\n",
      "(2103, 15)\n",
      "(408, 15)\n",
      "(999, 15)\n",
      "(414, 15)\n",
      "(282, 15)\n"
     ]
    }
   ],
   "source": [
    "cau = cs[cs.race == \"Caucasian\"]\n",
    "print(\"Number of Caucasians\")\n",
    "print(cau.shape) \n",
    "cau_low = cau[cau.risk_level == 0]\n",
    "cau_low_re = cau_low[cau_low.two_year_recid == 1]\n",
    "print(cau_low_re.shape)\n",
    "cau_low_nre = cau_low[cau_low.two_year_recid == 0]\n",
    "print(cau_low_nre.shape)\n",
    "\n",
    "cau_high = cau[cau.risk_level == 1]\n",
    "cau_high_re = cau_high[cau_high.two_year_recid == 1]\n",
    "print(cau_high_re.shape)\n",
    "cau_high_nre = cau_high[cau_high.two_year_recid == 0]\n",
    "print(cau_high_nre.shape)"
   ]
  },
  {
   "cell_type": "markdown",
   "metadata": {},
   "source": [
    "Confusion Matrix for Caucasians: No for not recidivists, Yes for recidivists\n",
    "\n",
    "|            | No(predict) | Yes(predict)               |\n",
    "| :---        |    :----:   |          ---: |\n",
    "| No(actual)        | 999         | 282           |\n",
    "| Yes(actual)        | 408      | 414               |"
   ]
  },
  {
   "cell_type": "code",
   "execution_count": 8,
   "metadata": {},
   "outputs": [
    {
     "name": "stdout",
     "output_type": "stream",
     "text": [
      "Number of Caucasians\n",
      "(3175, 15)\n",
      "(473, 15)\n",
      "(873, 15)\n",
      "(1188, 15)\n",
      "(641, 15)\n"
     ]
    }
   ],
   "source": [
    "# Sorry, I just too lazy to assign new names\n",
    "cau = cs[cs.race == \"African-American\"]\n",
    "print(\"Number of Caucasians\")\n",
    "print(cau.shape) \n",
    "cau_low = cau[cau.risk_level == 0]\n",
    "cau_low_re = cau_low[cau_low.two_year_recid == 1]\n",
    "print(cau_low_re.shape)\n",
    "cau_low_nre = cau_low[cau_low.two_year_recid == 0]\n",
    "print(cau_low_nre.shape)\n",
    "\n",
    "cau_high = cau[cau.risk_level == 1]\n",
    "cau_high_re = cau_high[cau_high.two_year_recid == 1]\n",
    "print(cau_high_re.shape)\n",
    "cau_high_nre = cau_high[cau_high.two_year_recid == 0]\n",
    "print(cau_high_nre.shape)"
   ]
  },
  {
   "cell_type": "markdown",
   "metadata": {},
   "source": [
    "Confusion Matrix for African-American: No for not recidivists, Yes for recidivists\n",
    "\n",
    "|            | No(predict) | Yes(predict)               |\n",
    "| :---        |    :----:   |          ---: |\n",
    "| No(actual)        | 873         | 641           |\n",
    "| Yes(actual)        | 473      | 1188               |"
   ]
  },
  {
   "cell_type": "markdown",
   "metadata": {},
   "source": [
    "The accuray for African-American is 0.6491, and for Caucasians is 0.6719. For African-American, the false positive rate is 0.42, and for Caucasians is 0.22. The false negative rate for African-American is 0.28, for Caucasians is 0.50"
   ]
  },
  {
   "cell_type": "markdown",
   "metadata": {},
   "source": [
    "#### 8. (12pt) If you have done this correctly, you will find that COMPAS's true negative and true positive percentages are similar for African-American and Caucasian individuals, but that false positive rates and false negative rates are difierent. Look again at the overal recidivism rates in the dataset for Black and White individuals. In your opinion, is the COMPAS algorithm `fair'? Justify your answer."
   ]
  },
  {
   "cell_type": "markdown",
   "metadata": {},
   "source": [
    "I don't think it is fair because althoguh both accuracy do not have too much difference. The False positive rates and false negative rates have obvious difference. The false positive rate for African-American is much higher than Caucasians, which means that COMPAS is more likely to identify innocent African-Americans are crimes than innocent Caucasians. The false negative rate for African-American is much lower than Caucasians. which means that COMPAS is more likely to predicts low risk for Caucasians recidivists than African-American \n",
    "recidivists. If COMPAS is fair, false positive rates and false negative rates should has little difference between 2 races, but here it is clearly not, which means it is not algorithm fair."
   ]
  },
  {
   "cell_type": "markdown",
   "metadata": {},
   "source": [
    "## 2 Can you beat COMPAS? (40pt)"
   ]
  },
  {
   "cell_type": "markdown",
   "metadata": {},
   "source": [
    "#### 1. (8pt) Before we start: what do you think, what is an appropriate model performance measure here? A, P, R, F or something else? Maybe you want to report multiple measures? Explain!"
   ]
  },
  {
   "cell_type": "markdown",
   "metadata": {},
   "source": [
    "I want to use A and F. Accuracy is important since we will not use the model if the model cannot predict too much correct. F-score is also important here because it combines P and R, since for this situation we both want it can predict with high correct percentage when individuals are recidivists and innocent individuals."
   ]
  },
  {
   "cell_type": "markdown",
   "metadata": {},
   "source": [
    "#### 2. (6pt) Now it is time to do the modeling. Create a logistic regression model that contains all the (permissible) explanatory variables you have in data into the model. (Some of these you have to convert to dummies). Do not include the variables discussed above. We also do not include race and gender in this model to avoid explicit gender/racial bias. Use 10-fold CV to compute its relevant performance measure(s) you discussed above"
   ]
  },
  {
   "cell_type": "code",
   "execution_count": 9,
   "metadata": {},
   "outputs": [],
   "source": [
    "from sklearn.linear_model import LogisticRegression\n",
    "from sklearn.model_selection import cross_val_score"
   ]
  },
  {
   "cell_type": "code",
   "execution_count": 10,
   "metadata": {},
   "outputs": [
    {
     "name": "stdout",
     "output_type": "stream",
     "text": [
      "F1:  0.6232789263104306\n",
      "A:  0.6631253234431603\n"
     ]
    }
   ],
   "source": [
    "X = cs[[\"c_charge_degree\", \"age_cat\", \"priors_count\", \"days_b_screening_arrest\"]]\n",
    "y = cs.two_year_recid\n",
    "\n",
    "a = pd.get_dummies(X.c_charge_degree, drop_first=True)\n",
    "b = pd.get_dummies(X.age_cat, drop_first=True)\n",
    "x = pd.concat([a,b],axis =1)\n",
    "X = X.drop([\"c_charge_degree\", \"age_cat\"], axis = 1)\n",
    "X = pd.concat([x,X],axis =1)\n",
    "\n",
    "m = LogisticRegression()\n",
    "cv = cross_val_score(m, X, y, scoring=\"f1\", cv=10)\n",
    "print(\"F1: \",cv.mean())\n",
    "# F1-score for this model is 0.6233\n",
    "\n",
    "m = LogisticRegression()\n",
    "cv = cross_val_score(m, X, y, scoring=\"accuracy\", cv=10)\n",
    "print(\"A: \",cv.mean())\n",
    "# Accuracy for this model is 0.6631"
   ]
  },
  {
   "cell_type": "markdown",
   "metadata": {},
   "source": [
    "#### 3. (6pt) Experiment with difierent models to find the best model according to your preformance indicator. (Include/exclude difierent variables, you may also do feature engineering, and try other model categories). Still do not include race and gender. Report your best model's performance. Is it better or worse than for the COMPAS model?"
   ]
  },
  {
   "cell_type": "code",
   "execution_count": 11,
   "metadata": {},
   "outputs": [
    {
     "name": "stdout",
     "output_type": "stream",
     "text": [
      "F1: 0.5981089468281039\n",
      "A: 0.6538478954631705\n"
     ]
    }
   ],
   "source": [
    "from sklearn.tree import DecisionTreeClassifier\n",
    "\n",
    "m = DecisionTreeClassifier()\n",
    "cv = cross_val_score(m, X, y, scoring=\"f1\", cv=10)\n",
    "print(\"F1:\", np.mean(cv)) \n",
    "\n",
    "m = DecisionTreeClassifier()\n",
    "cv = cross_val_score(m, X, y, scoring=\"accuracy\", cv=10)\n",
    "print(\"A:\", np.mean(cv)) "
   ]
  },
  {
   "cell_type": "code",
   "execution_count": 12,
   "metadata": {},
   "outputs": [
    {
     "name": "stdout",
     "output_type": "stream",
     "text": [
      "F1: 0.6071331876129936\n",
      "A: 0.6527086567764936\n"
     ]
    }
   ],
   "source": [
    "from sklearn.ensemble import RandomForestClassifier\n",
    "\n",
    "m = RandomForestClassifier(n_estimators=100, n_jobs=6)\n",
    "cv = cross_val_score(m, X, y, scoring=\"f1\", cv=10)\n",
    "print(\"F1:\", np.mean(cv))\n",
    "\n",
    "m = RandomForestClassifier(n_estimators=100, n_jobs=6)\n",
    "cv = cross_val_score(m, X, y, scoring=\"accuracy\", cv=10)\n",
    "print(\"A:\", np.mean(cv))"
   ]
  },
  {
   "cell_type": "markdown",
   "metadata": {},
   "source": [
    "My best model is logistic regression model with A = 0.6631 and f1 = 0.6233. I got a slightly higher accuracy and slightly lower f1-score, so it is kind of tied."
   ]
  },
  {
   "cell_type": "markdown",
   "metadata": {},
   "source": [
    "#### 4. (4pt) Now add sex to the model. Does it help to improve the performance?"
   ]
  },
  {
   "cell_type": "code",
   "execution_count": 13,
   "metadata": {},
   "outputs": [
    {
     "name": "stdout",
     "output_type": "stream",
     "text": [
      "A:  0.6689940198953482\n",
      "F1:  0.6243692225784991\n"
     ]
    }
   ],
   "source": [
    "sex = pd.get_dummies(cs.sex)\n",
    "\n",
    "X = pd.concat([X, sex],axis =1)\n",
    "\n",
    "m = LogisticRegression()\n",
    "cv = cross_val_score(m, X, y, scoring=\"accuracy\", cv=10)\n",
    "print(\"A: \",cv.mean())\n",
    "\n",
    "m = LogisticRegression()\n",
    "cv = cross_val_score(m, X, y, scoring=\"f1\", cv=10)\n",
    "print(\"F1: \",cv.mean())"
   ]
  },
  {
   "cell_type": "markdown",
   "metadata": {},
   "source": [
    "Sex variable does not helped too much."
   ]
  },
  {
   "cell_type": "markdown",
   "metadata": {},
   "source": [
    "#### 5. (4pt) And finally add race. Does the model improve?"
   ]
  },
  {
   "cell_type": "code",
   "execution_count": 14,
   "metadata": {},
   "outputs": [
    {
     "name": "stdout",
     "output_type": "stream",
     "text": [
      "A:  0.6665318986832269\n",
      "F1:  0.6237314405062644\n"
     ]
    }
   ],
   "source": [
    "race = pd.get_dummies(cs.race)\n",
    "\n",
    "X = pd.concat([X, race],axis =1)\n",
    "\n",
    "m = LogisticRegression()\n",
    "cv = cross_val_score(m, X, y, scoring=\"accuracy\", cv=10)\n",
    "print(\"A: \",cv.mean())\n",
    "\n",
    "m = LogisticRegression()\n",
    "cv = cross_val_score(m, X, y, scoring=\"f1\", cv=10)\n",
    "print(\"F1: \",cv.mean())"
   ]
  },
  {
   "cell_type": "markdown",
   "metadata": {},
   "source": [
    "Age variable does not help too much either."
   ]
  },
  {
   "cell_type": "markdown",
   "metadata": {},
   "source": [
    "#### 6. (12pt) Discuss the results. Did you manage to beat COMPAS? Do gender and race help to improve your predictions? What should judges do when having access to such models? Should they use such models?\n"
   ]
  },
  {
   "cell_type": "markdown",
   "metadata": {},
   "source": [
    "I tied with COMPAS, but this is their failure to tie with me. Gender and race does not improve predictions. Judges should not rely on it too much since I don't think its accuracy is better than an impartial judge."
   ]
  }
 ],
 "metadata": {
  "kernelspec": {
   "display_name": "Python 3",
   "language": "python",
   "name": "python3"
  },
  "language_info": {
   "codemirror_mode": {
    "name": "ipython",
    "version": 3
   },
   "file_extension": ".py",
   "mimetype": "text/x-python",
   "name": "python",
   "nbconvert_exporter": "python",
   "pygments_lexer": "ipython3",
   "version": "3.8.3"
  }
 },
 "nbformat": 4,
 "nbformat_minor": 4
}
